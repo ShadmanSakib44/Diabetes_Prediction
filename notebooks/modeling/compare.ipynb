{
 "cells": [
  {
   "cell_type": "code",
   "execution_count": 16,
   "metadata": {},
   "outputs": [],
   "source": [
    "import pandas as pd\n",
    "from sklearn.metrics import accuracy_score, precision_score, recall_score, f1_score, confusion_matrix"
   ]
  },
  {
   "cell_type": "code",
   "execution_count": 17,
   "metadata": {},
   "outputs": [],
   "source": [
    "df_actual = pd.read_csv(\"diabetes.csv\")  # Ensure this file contains the \"Outcome\" column\n",
    "df_predictions = pd.read_csv(\"diabetes_predictions_mistral.csv\")  # This should have \"Predicted_Outcome\""
   ]
  },
  {
   "cell_type": "code",
   "execution_count": 18,
   "metadata": {},
   "outputs": [],
   "source": [
    "df_actual = df_actual.iloc[:len(df_predictions)]"
   ]
  },
  {
   "cell_type": "code",
   "execution_count": 19,
   "metadata": {},
   "outputs": [],
   "source": [
    "y_true = df_actual[\"Outcome\"]\n",
    "y_pred = df_predictions[\"Predicted_Outcome\"]\n"
   ]
  },
  {
   "cell_type": "code",
   "execution_count": 20,
   "metadata": {},
   "outputs": [],
   "source": [
    "nan_count = y_pred.isna().sum()"
   ]
  },
  {
   "cell_type": "code",
   "execution_count": 21,
   "metadata": {},
   "outputs": [],
   "source": [
    "y_pred = y_pred.fillna(-1)"
   ]
  },
  {
   "cell_type": "code",
   "execution_count": 22,
   "metadata": {},
   "outputs": [],
   "source": [
    "valid_indices = y_pred != -1  \n",
    "valid_y_true = y_true[valid_indices]\n",
    "valid_y_pred = y_pred[valid_indices].astype(int)"
   ]
  },
  {
   "cell_type": "code",
   "execution_count": 23,
   "metadata": {},
   "outputs": [],
   "source": [
    "accuracy = accuracy_score(valid_y_true, valid_y_pred)\n",
    "precision = precision_score(valid_y_true, valid_y_pred)\n",
    "recall = recall_score(valid_y_true, valid_y_pred)\n",
    "f1 = f1_score(valid_y_true, valid_y_pred)\n",
    "conf_matrix = confusion_matrix(valid_y_true, valid_y_pred)"
   ]
  },
  {
   "cell_type": "code",
   "execution_count": null,
   "metadata": {},
   "outputs": [],
   "source": [
    "metrics_df = pd.DataFrame({\n",
    "    \"Metric\": [\"Accuracy\", \"Precision\", \"Recall\", \"F1 Score\", \"NaN Predictions\"],\n",
    "    \"Value\": [accuracy, precision, recall, f1, nan_count],\n",
    "    #print the accuracy score in percentage\n",
    "    \n",
    "})"
   ]
  },
  {
   "cell_type": "code",
   "execution_count": 25,
   "metadata": {},
   "outputs": [],
   "source": [
    "conf_matrix_df = pd.DataFrame(conf_matrix, index=[\"Actual 0\", \"Actual 1\"], columns=[\"Predicted 0\", \"Predicted 1\"])"
   ]
  },
  {
   "cell_type": "code",
   "execution_count": 26,
   "metadata": {},
   "outputs": [
    {
     "name": "stdout",
     "output_type": "stream",
     "text": [
      "=== Model Performance Metrics ===\n",
      "            Metric       Value\n",
      "0         Accuracy    0.724458\n",
      "1        Precision    0.657754\n",
      "2           Recall    0.518987\n",
      "3         F1 Score    0.580189\n",
      "4  NaN Predictions  122.000000\n",
      "\n",
      "=== Confusion Matrix (Excludes NaN cases) ===\n",
      "          Predicted 0  Predicted 1\n",
      "Actual 0          345           64\n",
      "Actual 1          114          123\n"
     ]
    }
   ],
   "source": [
    "print(\"=== Model Performance Metrics ===\")\n",
    "print(metrics_df)\n",
    "print(\"\\n=== Confusion Matrix (Excludes NaN cases) ===\")\n",
    "print(conf_matrix_df)\n"
   ]
  },
  {
   "cell_type": "code",
   "execution_count": 27,
   "metadata": {},
   "outputs": [],
   "source": [
    "# metrics_df.to_csv(\"prediction_metrics.csv\", index=False)\n",
    "# conf_matrix_df.to_csv(\"confusion_matrix.csv\")"
   ]
  },
  {
   "cell_type": "code",
   "execution_count": null,
   "metadata": {},
   "outputs": [
    {
     "name": "stdout",
     "output_type": "stream",
     "text": [
      "\n",
      "Metrics and Confusion Matrix saved as CSV files.\n",
      "Model failed to predict 122 cases.\n"
     ]
    },
    {
     "ename": "",
     "evalue": "",
     "output_type": "error",
     "traceback": [
      "\u001b[1;31mThe Kernel crashed while executing code in the current cell or a previous cell. \n",
      "\u001b[1;31mPlease review the code in the cell(s) to identify a possible cause of the failure. \n",
      "\u001b[1;31mClick <a href='https://aka.ms/vscodeJupyterKernelCrash'>here</a> for more info. \n",
      "\u001b[1;31mView Jupyter <a href='command:jupyter.viewOutput'>log</a> for further details."
     ]
    }
   ],
   "source": [
    "print(\"\\nMetrics and Confusion Matrix saved as CSV files.\")\n",
    "print(f\"Model failed to predict {nan_count} cases.\")"
   ]
  },
  {
   "cell_type": "code",
   "execution_count": null,
   "metadata": {},
   "outputs": [],
   "source": []
  }
 ],
 "metadata": {
  "kernelspec": {
   "display_name": "Python 3",
   "language": "python",
   "name": "python3"
  },
  "language_info": {
   "codemirror_mode": {
    "name": "ipython",
    "version": 3
   },
   "file_extension": ".py",
   "mimetype": "text/x-python",
   "name": "python",
   "nbconvert_exporter": "python",
   "pygments_lexer": "ipython3",
   "version": "3.12.7"
  }
 },
 "nbformat": 4,
 "nbformat_minor": 2
}
