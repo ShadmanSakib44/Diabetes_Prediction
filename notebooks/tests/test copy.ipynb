{
 "cells": [
  {
   "cell_type": "code",
   "execution_count": 1,
   "metadata": {},
   "outputs": [],
   "source": [
    "import pandas as pd \n",
    "import ollama\n",
    "import json\n",
    "from tqdm import tqdm"
   ]
  },
  {
   "cell_type": "code",
   "execution_count": 2,
   "metadata": {},
   "outputs": [],
   "source": [
    "file_path='diabetes_input.csv'\n",
    "df=pd.read_csv(file_path)"
   ]
  },
  {
   "cell_type": "code",
   "execution_count": 3,
   "metadata": {},
   "outputs": [],
   "source": [
    "tqdm.pandas(desc=\"Processing Rows\")"
   ]
  },
  {
   "cell_type": "code",
   "execution_count": 6,
   "metadata": {},
   "outputs": [],
   "source": [
    "def predict_diabetes(data_row):\n",
    "    prompt = f\"\"\"\n",
    "    Based on the following patient medical data, predict if the person has diabetes (1) or not (0):\n",
    "    \n",
    "    Pregnancies: {data_row['Pregnancies']}\n",
    "    Glucose: {data_row['Glucose']}\n",
    "    BloodPressure: {data_row['BloodPressure']}\n",
    "    SkinThickness: {data_row['SkinThickness']}\n",
    "    Insulin: {data_row['Insulin']}\n",
    "    BMI: {data_row['BMI']}\n",
    "    DiabetesPedigreeFunction: {data_row['DiabetesPedigreeFunction']}\n",
    "    Age: {data_row['Age']}\n",
    "\n",
    "    Respond with only a single number: 1 for diabetic, 0 for non-diabetic.\n",
    "    \"\"\"\n",
    "\n",
    "    response = ollama.chat(model=\"llama3.2:latest\", messages=[{\"role\": \"user\", \"content\": prompt}])\n",
    "    result = response[\"message\"][\"content\"].strip()\n",
    "\n",
    "    # Ensure the result is either 0 or 1\n",
    "    try:\n",
    "        return int(result) if result in [\"0\", \"1\"] else None\n",
    "    except ValueError:\n",
    "        return None"
   ]
  },
  {
   "cell_type": "code",
   "execution_count": 7,
   "metadata": {},
   "outputs": [
    {
     "name": "stderr",
     "output_type": "stream",
     "text": [
      "Processing Rows:   9%|▉         | 68/768 [21:27<2:57:28, 15.21s/it]"
     ]
    },
    {
     "ename": "",
     "evalue": "",
     "output_type": "error",
     "traceback": [
      "\u001b[1;31mThe Kernel crashed while executing code in the current cell or a previous cell. \n",
      "\u001b[1;31mPlease review the code in the cell(s) to identify a possible cause of the failure. \n",
      "\u001b[1;31mClick <a href='https://aka.ms/vscodeJupyterKernelCrash'>here</a> for more info. \n",
      "\u001b[1;31mView Jupyter <a href='command:jupyter.viewOutput'>log</a> for further details."
     ]
    }
   ],
   "source": [
    "df[\"Predicted_Outcome\"] = df.progress_apply(predict_diabetes, axis=1)\n",
    "\n",
    "# Save the predictions to a new CSV file\n",
    "output_file = \"diabetes_predictions_llama3.2.csv\"\n",
    "df.to_csv(output_file, index=False)\n",
    "\n",
    "print(f\"Predictions saved to {output_file}\")"
   ]
  },
  {
   "cell_type": "code",
   "execution_count": null,
   "metadata": {},
   "outputs": [],
   "source": []
  }
 ],
 "metadata": {
  "kernelspec": {
   "display_name": "Python 3",
   "language": "python",
   "name": "python3"
  },
  "language_info": {
   "codemirror_mode": {
    "name": "ipython",
    "version": 3
   },
   "file_extension": ".py",
   "mimetype": "text/x-python",
   "name": "python",
   "nbconvert_exporter": "python",
   "pygments_lexer": "ipython3",
   "version": "3.12.7"
  }
 },
 "nbformat": 4,
 "nbformat_minor": 2
}
