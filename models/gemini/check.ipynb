{
 "cells": [
  {
   "cell_type": "code",
   "execution_count": 2,
   "metadata": {},
   "outputs": [
    {
     "name": "stdout",
     "output_type": "stream",
     "text": [
      "Rows that are not common between the zero-shot and one-shot files (excluding 'Predicted_outcome'):\n",
      "Empty DataFrame\n",
      "Columns: [Pregnancies, Glucose, BloodPressure, SkinThickness, Insulin, BMI, DiabetesPedigreeFunction, Age, Predicted_Outcome, _merge]\n",
      "Index: []\n"
     ]
    }
   ],
   "source": [
    "import pandas as pd\n",
    "\n",
    "# File paths for the zero-shot and one-shot CSV files\n",
    "zero_shot_path = '/Users/shadmansakib/Documents/Diabetes_Prediction/Diabetes_Prediction/models/gemini/diabetes_predictions_gemini_zero_shot.csv'\n",
    "one_shot_path  = '/Users/shadmansakib/Documents/Diabetes_Prediction/Diabetes_Prediction/models/gemini/diabetes_predictions_gemini_one_shot.csv'\n",
    "\n",
    "# Read the CSV files into DataFrames\n",
    "df_zero = pd.read_csv(zero_shot_path)\n",
    "df_one  = pd.read_csv(one_shot_path)\n",
    "\n",
    "# Drop the 'Predicted_outcome' column (if it exists)\n",
    "if 'Predicted_outcome' in df_zero.columns:\n",
    "    df_zero = df_zero.drop(columns=['Predicted_outcome'])\n",
    "if 'Predicted_outcome' in df_one.columns:\n",
    "    df_one = df_one.drop(columns=['Predicted_outcome'])\n",
    "\n",
    "# Optionally remove any duplicate rows within each file\n",
    "df_zero_unique = df_zero.drop_duplicates()\n",
    "df_one_unique  = df_one.drop_duplicates()\n",
    "\n",
    "# Merge the two DataFrames with an outer join and use an indicator column to track the source of each row.\n",
    "merged_df = pd.merge(df_zero_unique, df_one_unique, how='outer', indicator=True)\n",
    "\n",
    "# Filter for rows that are not common (i.e., appear only in one of the files)\n",
    "not_common = merged_df[merged_df['_merge'] != 'both']\n",
    "\n",
    "print(\"Rows that are not common between the zero-shot and one-shot files (excluding 'Predicted_outcome'):\")\n",
    "print(not_common)\n"
   ]
  },
  {
   "cell_type": "code",
   "execution_count": null,
   "metadata": {},
   "outputs": [],
   "source": []
  }
 ],
 "metadata": {
  "kernelspec": {
   "display_name": "Python 3",
   "language": "python",
   "name": "python3"
  },
  "language_info": {
   "codemirror_mode": {
    "name": "ipython",
    "version": 3
   },
   "file_extension": ".py",
   "mimetype": "text/x-python",
   "name": "python",
   "nbconvert_exporter": "python",
   "pygments_lexer": "ipython3",
   "version": "3.12.0"
  }
 },
 "nbformat": 4,
 "nbformat_minor": 2
}
